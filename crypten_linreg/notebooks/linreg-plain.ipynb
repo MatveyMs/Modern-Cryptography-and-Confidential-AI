{
 "cells": [
  {
   "cell_type": "code",
   "execution_count": 1,
   "id": "4e0b82ab",
   "metadata": {},
   "outputs": [],
   "source": [
    "import time\n",
    "import torch\n",
    "import torch.nn as nn\n",
    "import torch.optim as optim\n",
    "from sklearn.model_selection import train_test_split\n",
    "import numpy as np\n",
    "\n",
    "# фиксируем сиды\n",
    "torch.manual_seed(42)\n",
    "np.random.seed(42)"
   ]
  },
  {
   "cell_type": "markdown",
   "id": "e05fedd6",
   "metadata": {},
   "source": [
    "# Генерация данных"
   ]
  },
  {
   "cell_type": "code",
   "execution_count": 2,
   "id": "a74aede4",
   "metadata": {},
   "outputs": [],
   "source": [
    "n_samples = 10_000  # общее кол-во экземпляров\n",
    "embedding_dim = 64  # размер эмбеддинга\n",
    "noise_std = 0.05  # уровень шума\n",
    "\n",
    "X = torch.randn(n_samples, embedding_dim) * 2\n",
    "w_true = torch.randn(embedding_dim, 1) * 0.7\n",
    "b_true = torch.tensor([0.7])\n",
    "\n",
    "# таргет = sigmoid(linear + noise) -> значения в (0,1)\n",
    "linear = X @ w_true + b_true\n",
    "y = torch.sigmoid(linear + noise_std * torch.randn_like(linear)).squeeze(1)\n",
    "\n",
    "# train/test split\n",
    "X_train, X_test, y_train, y_test = train_test_split(\n",
    "    X.numpy(), y.numpy(), test_size=0.2, random_state=42\n",
    ")\n",
    "X_train = torch.tensor(X_train, dtype=torch.float32)\n",
    "X_test  = torch.tensor(X_test,  dtype=torch.float32)\n",
    "y_train = torch.tensor(y_train, dtype=torch.float32).unsqueeze(1)\n",
    "y_test  = torch.tensor(y_test,  dtype=torch.float32).unsqueeze(1)\n",
    "\n",
    "# нормализация признаков\n",
    "mean = X_train.mean(0, keepdim=True)\n",
    "std  = X_train.std(0, keepdim=True) + 1e-6\n",
    "X_train_norm = (X_train - mean) / std\n",
    "X_test_norm  = (X_test  - mean) / std"
   ]
  },
  {
   "cell_type": "code",
   "execution_count": 3,
   "id": "564c54e9",
   "metadata": {},
   "outputs": [
    {
     "name": "stdout",
     "output_type": "stream",
     "text": [
      "X_train_norm size:\ttorch.Size([8000, 64])\n",
      "y_train size:\t\ttorch.Size([8000, 1])\n",
      "\n",
      "X_test_norm size:\ttorch.Size([2000, 64])\n",
      "y_test size:\t\ttorch.Size([2000, 1])\n"
     ]
    }
   ],
   "source": [
    "print(f'X_train_norm size:\\t{X_train_norm.size()}')\n",
    "print(f'y_train size:\\t\\t{y_train.size()}\\n')\n",
    "\n",
    "print(f'X_test_norm size:\\t{X_test_norm.size()}')\n",
    "print(f'y_test size:\\t\\t{y_test.size()}')"
   ]
  },
  {
   "cell_type": "code",
   "execution_count": 4,
   "id": "3b23cd88",
   "metadata": {},
   "outputs": [
    {
     "data": {
      "text/plain": [
       "tensor([[-0.7851, -1.6373,  0.4749,  ..., -1.5135,  0.3622, -3.1485],\n",
       "        [ 0.6945, -3.7989,  2.4435,  ..., -2.0761,  1.5781, -2.2293],\n",
       "        [-0.5378, -1.7930,  5.2560,  ..., -0.3883,  2.8150,  3.4921],\n",
       "        ...,\n",
       "        [ 1.2763,  0.2720,  2.2724,  ..., -2.5030, -0.0525, -2.6875],\n",
       "        [-0.9372,  2.5964,  0.4257,  ..., -2.0897,  0.5140,  2.2735],\n",
       "        [-1.2076, -3.3293, -5.6350,  ...,  2.7956, -0.4004, -1.7049]])"
      ]
     },
     "execution_count": 4,
     "metadata": {},
     "output_type": "execute_result"
    }
   ],
   "source": [
    "X_train"
   ]
  },
  {
   "cell_type": "code",
   "execution_count": 5,
   "id": "392db92d",
   "metadata": {},
   "outputs": [
    {
     "data": {
      "text/plain": [
       "tensor([[-0.3778, -0.8151,  0.2425,  ..., -0.7549,  0.1777, -1.5835],\n",
       "        [ 0.3550, -1.8820,  1.2294,  ..., -1.0335,  0.7883, -1.1224],\n",
       "        [-0.2553, -0.8919,  2.6395,  ..., -0.1976,  1.4095,  1.7472],\n",
       "        ...,\n",
       "        [ 0.6431,  0.1273,  1.1437,  ..., -1.2450, -0.0306, -1.3522],\n",
       "        [-0.4532,  1.2745,  0.2178,  ..., -1.0403,  0.2539,  1.1360],\n",
       "        [-0.5871, -1.6502, -2.8208,  ...,  1.3794, -0.2053, -0.8594]])"
      ]
     },
     "execution_count": 5,
     "metadata": {},
     "output_type": "execute_result"
    }
   ],
   "source": [
    "X_train_norm"
   ]
  },
  {
   "cell_type": "code",
   "execution_count": 6,
   "id": "b046bcc2",
   "metadata": {},
   "outputs": [
    {
     "data": {
      "text/plain": [
       "tensor([[7.3248e-01],\n",
       "        [1.6775e-04],\n",
       "        [1.0000e+00],\n",
       "        ...,\n",
       "        [1.0000e+00],\n",
       "        [5.0067e-01],\n",
       "        [9.8599e-01]])"
      ]
     },
     "execution_count": 6,
     "metadata": {},
     "output_type": "execute_result"
    }
   ],
   "source": [
    "y_train"
   ]
  },
  {
   "cell_type": "code",
   "execution_count": 7,
   "id": "a4eb3148",
   "metadata": {},
   "outputs": [],
   "source": [
    "torch.save(X_train, '../data/worker1/x_train.pth')\n",
    "torch.save(X_train_norm, '../data/worker1/x_train_norm.pth')\n",
    "torch.save(X_test, '../data/worker1/x_test.pth')\n",
    "torch.save(X_test_norm, '../data/worker1/x_test_norm.pth')\n",
    "\n",
    "torch.save(y_train, '../data/worker2/y_train.pth')\n",
    "torch.save(y_test, '../data/worker2/y_test.pth')"
   ]
  },
  {
   "cell_type": "code",
   "execution_count": 17,
   "id": "4c09d692",
   "metadata": {},
   "outputs": [],
   "source": [
    "!mkdir ../data/homework"
   ]
  },
  {
   "cell_type": "code",
   "execution_count": 18,
   "id": "9d34f5e8",
   "metadata": {},
   "outputs": [],
   "source": [
    "torch.save(X_train_norm[:2000], '../data/homework/x_train_norm_worker1.pth')\n",
    "torch.save(y_train[:2000], '../data/homework/y_train_worker1.pth')\n",
    "\n",
    "torch.save(X_train_norm[2000:3200], '../data/homework/x_train_norm_worker2.pth')\n",
    "torch.save(y_train[2000:3200], '../data/homework/y_train_worker2.pth')\n",
    "\n",
    "torch.save(X_test_norm[:800], '../data/homework/x_test_norm_worker1.pth')\n",
    "torch.save(y_test[:800], '../data/homework/y_test_worker1.pth')"
   ]
  },
  {
   "cell_type": "markdown",
   "id": "0fa9a114",
   "metadata": {},
   "source": [
    "# SGD"
   ]
  },
  {
   "cell_type": "markdown",
   "id": "e5310088",
   "metadata": {},
   "source": [
    "## Model"
   ]
  },
  {
   "cell_type": "code",
   "execution_count": 8,
   "id": "350b327c",
   "metadata": {},
   "outputs": [],
   "source": [
    "class LinearRegressor(nn.Module):\n",
    "    def __init__(self, input_dim):\n",
    "        super().__init__()\n",
    "        self.linear = nn.Linear(input_dim, 1)\n",
    "    def forward(self, x):\n",
    "        return self.linear(x)\n",
    "\n",
    "model = LinearRegressor(embedding_dim)\n",
    "nn.init.normal_(model.linear.weight, mean=0.0, std=0.01)\n",
    "nn.init.constant_(model.linear.bias, 0.0)\n",
    "\n",
    "criterion = nn.MSELoss()\n",
    "optimizer = optim.SGD(model.parameters(), lr=0.05, momentum=0.9)"
   ]
  },
  {
   "cell_type": "markdown",
   "id": "52dee0c0",
   "metadata": {},
   "source": [
    "## Обучение"
   ]
  },
  {
   "cell_type": "code",
   "execution_count": 9,
   "id": "4efa332d",
   "metadata": {},
   "outputs": [
    {
     "name": "stdout",
     "output_type": "stream",
     "text": [
      "[Epoch 01] loss=0.065295\n",
      "[Epoch 05] loss=0.064928\n",
      "[Epoch 10] loss=0.062764\n",
      "[Epoch 15] loss=0.070506\n",
      "[Epoch 20] loss=0.067849\n",
      "[Epoch 25] loss=0.065010\n",
      "[Epoch 30] loss=0.068480\n",
      "Elapsed time: 0.9147 seconds\n"
     ]
    }
   ],
   "source": [
    "t0 = time.time()\n",
    "\n",
    "batch_size = 512\n",
    "n_epochs = 30\n",
    "dataset = torch.utils.data.TensorDataset(X_train_norm, y_train)\n",
    "loader = torch.utils.data.DataLoader(dataset, batch_size=batch_size, shuffle=True)\n",
    "\n",
    "for epoch in range(n_epochs):\n",
    "    model.train()\n",
    "    for xb, yb in loader:\n",
    "        optimizer.zero_grad()\n",
    "        preds = model(xb)\n",
    "        loss = criterion(preds, yb)\n",
    "        loss.backward()\n",
    "        optimizer.step()\n",
    "    if (epoch+1) % 5 == 0 or epoch == 0:\n",
    "        print(f\"[Epoch {epoch+1:02d}] loss={loss:.6f}\")\n",
    "        \n",
    "print(f\"Elapsed time: {time.time() - t0:.4f} seconds\")"
   ]
  },
  {
   "cell_type": "markdown",
   "id": "62b6176b",
   "metadata": {},
   "source": [
    "# Валидация"
   ]
  },
  {
   "cell_type": "code",
   "execution_count": 10,
   "id": "ee6e9429",
   "metadata": {},
   "outputs": [],
   "source": [
    "def metrics(y_true, y_pred):\n",
    "    \"\"\"Расчет метрик\"\"\"\n",
    "    mse = torch.mean((y_true - y_pred) ** 2).item()\n",
    "    return mse"
   ]
  },
  {
   "cell_type": "code",
   "execution_count": 11,
   "id": "52ac0872",
   "metadata": {},
   "outputs": [
    {
     "name": "stdout",
     "output_type": "stream",
     "text": [
      "SGD (MSELoss):   MSE=0.068981\n"
     ]
    }
   ],
   "source": [
    "model.eval()\n",
    "with torch.no_grad():\n",
    "    y_pred_sgd = model(X_test_norm)\n",
    "\n",
    "mse_s = metrics(y_test, y_pred_sgd)\n",
    "print(f\"SGD (MSELoss):   MSE={mse_s:.6f}\")"
   ]
  },
  {
   "cell_type": "code",
   "execution_count": null,
   "id": "63606ffc",
   "metadata": {},
   "outputs": [],
   "source": []
  },
  {
   "cell_type": "code",
   "execution_count": 12,
   "id": "a8c57489",
   "metadata": {},
   "outputs": [
    {
     "data": {
      "text/plain": [
       "2.0"
      ]
     },
     "execution_count": 12,
     "metadata": {},
     "output_type": "execute_result"
    }
   ],
   "source": [
    "(-56694060547302 + 56694060678374) / 2 ** 16"
   ]
  },
  {
   "cell_type": "code",
   "execution_count": 13,
   "id": "9a4ae6a4",
   "metadata": {},
   "outputs": [
    {
     "data": {
      "text/plain": [
       "Parameter containing:\n",
       "tensor([[ 2.7496e-02,  1.6377e-02,  5.0892e-02, -1.0467e-01,  7.4125e-03,\n",
       "         -7.5967e-02, -9.7439e-02, -7.9946e-03,  2.9753e-02,  7.5591e-02,\n",
       "          6.8202e-02,  3.6376e-02,  9.5321e-03,  5.9654e-02, -1.1512e-01,\n",
       "         -1.9416e-02,  8.0640e-02, -4.5102e-02,  3.0652e-02,  2.5311e-02,\n",
       "          6.2073e-02, -1.8994e-02,  2.7111e-02,  3.6852e-02, -6.8253e-02,\n",
       "          6.3581e-02,  1.6095e-02, -3.2301e-02, -3.1563e-02, -4.7524e-02,\n",
       "         -7.9002e-02,  4.1198e-02,  2.1871e-02,  8.3317e-02, -1.8258e-02,\n",
       "          1.2448e-02,  5.5225e-02,  9.3417e-02, -5.1130e-02, -9.4515e-05,\n",
       "          3.6994e-02, -6.2104e-02, -7.0079e-02,  1.3150e-02, -3.6580e-03,\n",
       "          7.7845e-03, -4.5025e-02, -4.9922e-02,  3.2048e-02, -4.1664e-02,\n",
       "          1.9410e-02, -1.5300e-02,  3.2155e-02, -5.2456e-03,  3.0242e-02,\n",
       "         -6.1409e-03, -6.6406e-02, -6.3751e-02,  4.8579e-02, -2.6156e-02,\n",
       "         -2.6324e-04,  5.2959e-02, -9.5709e-02,  5.5153e-02]],\n",
       "       requires_grad=True)"
      ]
     },
     "execution_count": 13,
     "metadata": {},
     "output_type": "execute_result"
    }
   ],
   "source": [
    "model.linear.weight"
   ]
  },
  {
   "cell_type": "code",
   "execution_count": 14,
   "id": "97dd6dcf",
   "metadata": {},
   "outputs": [
    {
     "data": {
      "text/plain": [
       "8.27133772174495"
      ]
     },
     "execution_count": 14,
     "metadata": {},
     "output_type": "execute_result"
    }
   ],
   "source": [
    "7.4136 / 0.8963"
   ]
  },
  {
   "cell_type": "code",
   "execution_count": 15,
   "id": "c13a5199",
   "metadata": {},
   "outputs": [
    {
     "data": {
      "text/plain": [
       "0.518707275390625"
      ]
     },
     "execution_count": 15,
     "metadata": {},
     "output_type": "execute_result"
    }
   ],
   "source": [
    "(7792451278391206618 + -7792451278391172624) / 2 ** 16"
   ]
  },
  {
   "cell_type": "code",
   "execution_count": 16,
   "id": "adc88793",
   "metadata": {},
   "outputs": [
    {
     "data": {
      "text/plain": [
       "Parameter containing:\n",
       "tensor([0.5253], requires_grad=True)"
      ]
     },
     "execution_count": 16,
     "metadata": {},
     "output_type": "execute_result"
    }
   ],
   "source": [
    "model.linear.bias"
   ]
  },
  {
   "cell_type": "code",
   "execution_count": null,
   "id": "2133cab3",
   "metadata": {},
   "outputs": [],
   "source": []
  }
 ],
 "metadata": {
  "kernelspec": {
   "display_name": "Python 3 (ipykernel)",
   "language": "python",
   "name": "python3"
  },
  "language_info": {
   "codemirror_mode": {
    "name": "ipython",
    "version": 3
   },
   "file_extension": ".py",
   "mimetype": "text/x-python",
   "name": "python",
   "nbconvert_exporter": "python",
   "pygments_lexer": "ipython3",
   "version": "3.7.16"
  }
 },
 "nbformat": 4,
 "nbformat_minor": 5
}
